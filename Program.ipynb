{
 "cells": [
  {
   "cell_type": "code",
   "execution_count": 36,
   "metadata": {
    "collapsed": true
   },
   "outputs": [],
   "source": [
    "import pandas as pd\n",
    "import numpy as np\n",
    "from sklearn import preprocessing"
   ]
  },
  {
   "cell_type": "code",
   "execution_count": 37,
   "metadata": {
    "collapsed": true
   },
   "outputs": [],
   "source": [
    "train = pd.read_csv('train.csv')\n",
    "test = pd.read_csv('test.csv')\n",
    "train.set_index('Id',inplace=True)\n",
    "train_x = train.drop('SalePrice',axis=1)\n",
    "train_y = train.SalePrice\n",
    "result = pd.DataFrame()\n",
    "result['Id'] = test.Id\n",
    "test.set_index('Id',inplace=True)"
   ]
  },
  {
   "cell_type": "code",
   "execution_count": 38,
   "metadata": {},
   "outputs": [
    {
     "name": "stdout",
     "output_type": "stream",
     "text": [
      "      MSSubClass MSZoning LotFrontage  LotArea Street Alley LotShape  \\\n",
      "Id                                                                     \n",
      "1461          20       RH          80    11622   Pave     0      Reg   \n",
      "1462          20       RL          81    14267   Pave     0      IR1   \n",
      "1463          60       RL          74    13830   Pave     0      IR1   \n",
      "1464          60       RL          78     9978   Pave     0      IR1   \n",
      "1465         120       RL          43     5005   Pave     0      IR1   \n",
      "\n",
      "     LandContour Utilities LotConfig      ...       ScreenPorch PoolArea  \\\n",
      "Id                                        ...                              \n",
      "1461         Lvl    AllPub    Inside      ...               120        0   \n",
      "1462         Lvl    AllPub    Corner      ...                 0        0   \n",
      "1463         Lvl    AllPub    Inside      ...                 0        0   \n",
      "1464         Lvl    AllPub    Inside      ...                 0        0   \n",
      "1465         HLS    AllPub    Inside      ...               144        0   \n",
      "\n",
      "     PoolQC  Fence MiscFeature MiscVal  MoSold  YrSold  SaleType  \\\n",
      "Id                                                                 \n",
      "1461      0  MnPrv           0       0       6    2010        WD   \n",
      "1462      0      0        Gar2   12500       6    2010        WD   \n",
      "1463      0  MnPrv           0       0       3    2010        WD   \n",
      "1464      0      0           0       0       6    2010        WD   \n",
      "1465      0      0           0       0       1    2010        WD   \n",
      "\n",
      "      SaleCondition  \n",
      "Id                   \n",
      "1461         Normal  \n",
      "1462         Normal  \n",
      "1463         Normal  \n",
      "1464         Normal  \n",
      "1465         Normal  \n",
      "\n",
      "[5 rows x 79 columns]\n",
      "    MSSubClass MSZoning LotFrontage  LotArea Street Alley LotShape  \\\n",
      "Id                                                                   \n",
      "1           60       RL          65     8450   Pave     0      Reg   \n",
      "2           20       RL          80     9600   Pave     0      Reg   \n",
      "3           60       RL          68    11250   Pave     0      IR1   \n",
      "4           70       RL          60     9550   Pave     0      IR1   \n",
      "5           60       RL          84    14260   Pave     0      IR1   \n",
      "\n",
      "   LandContour Utilities LotConfig      ...       ScreenPorch PoolArea PoolQC  \\\n",
      "Id                                      ...                                     \n",
      "1          Lvl    AllPub    Inside      ...                 0        0      0   \n",
      "2          Lvl    AllPub       FR2      ...                 0        0      0   \n",
      "3          Lvl    AllPub    Inside      ...                 0        0      0   \n",
      "4          Lvl    AllPub    Corner      ...                 0        0      0   \n",
      "5          Lvl    AllPub       FR2      ...                 0        0      0   \n",
      "\n",
      "   Fence MiscFeature MiscVal  MoSold  YrSold  SaleType  SaleCondition  \n",
      "Id                                                                     \n",
      "1      0           0       0       2    2008        WD         Normal  \n",
      "2      0           0       0       5    2007        WD         Normal  \n",
      "3      0           0       0       9    2008        WD         Normal  \n",
      "4      0           0       0       2    2006        WD        Abnorml  \n",
      "5      0           0       0      12    2008        WD         Normal  \n",
      "\n",
      "[5 rows x 79 columns]\n"
     ]
    }
   ],
   "source": [
    "train_x.fillna('0',inplace=True)\n",
    "test.fillna('0',inplace=True)\n",
    "print(test.head())\n",
    "print(train_x.head())"
   ]
  },
  {
   "cell_type": "code",
   "execution_count": 39,
   "metadata": {
    "collapsed": true
   },
   "outputs": [],
   "source": [
    "le = preprocessing.LabelEncoder()\n",
    "for cols in ['MSZoning','Street','Alley','LotShape','LandContour','Utilities','LotConfig','LandSlope','Neighborhood',\n",
    "            'Condition1','Condition2','BldgType','HouseStyle','RoofStyle','RoofMatl','Exterior1st','Exterior2nd',\n",
    "            'MasVnrType','ExterQual','ExterCond','Foundation','BsmtQual','BsmtCond','BsmtExposure','BsmtFinType1',\n",
    "            'BsmtFinType2','Heating','HeatingQC','CentralAir','Electrical','KitchenQual','Functional','FireplaceQu',\n",
    "            'GarageType','GarageFinish','GarageQual','GarageCond','PavedDrive','PoolQC','Fence','MiscFeature','SaleType',\n",
    "            'SaleCondition']:\n",
    "    le.fit(np.array(pd.concat([train_x[cols],test[cols]])))\n",
    "    train_x[cols] = le.transform(np.array(train_x[cols]))\n",
    "    test[cols] = le.transform(np.array(test[cols]))"
   ]
  },
  {
   "cell_type": "code",
   "execution_count": 40,
   "metadata": {
    "collapsed": true
   },
   "outputs": [],
   "source": [
    "from sklearn.model_selection import train_test_split\n",
    "from sklearn.linear_model import LinearRegression"
   ]
  },
  {
   "cell_type": "code",
   "execution_count": 41,
   "metadata": {},
   "outputs": [],
   "source": [
    "x_train, x_test, y_train, y_test = train_test_split(train_x, train_y, test_size=0.2, random_state=42)"
   ]
  },
  {
   "cell_type": "code",
   "execution_count": 42,
   "metadata": {},
   "outputs": [],
   "source": [
    "regr = LinearRegression()"
   ]
  },
  {
   "cell_type": "code",
   "execution_count": 43,
   "metadata": {},
   "outputs": [
    {
     "data": {
      "text/plain": [
       "LinearRegression(copy_X=True, fit_intercept=True, n_jobs=1, normalize=False)"
      ]
     },
     "execution_count": 43,
     "metadata": {},
     "output_type": "execute_result"
    }
   ],
   "source": [
    "regr.fit(x_train,y_train)"
   ]
  },
  {
   "cell_type": "code",
   "execution_count": 44,
   "metadata": {},
   "outputs": [
    {
     "name": "stdout",
     "output_type": "stream",
     "text": [
      "0.818701793001\n"
     ]
    }
   ],
   "source": [
    "print(regr.score(x_test,y_test))"
   ]
  },
  {
   "cell_type": "code",
   "execution_count": 75,
   "metadata": {
    "collapsed": true
   },
   "outputs": [],
   "source": [
    "result['SalePrice'] = pd.DataFrame(regr.predict(np.array(test)))"
   ]
  },
  {
   "cell_type": "code",
   "execution_count": 76,
   "metadata": {},
   "outputs": [
    {
     "name": "stdout",
     "output_type": "stream",
     "text": [
      "     Id      SalePrice\n",
      "0  1461  118897.659462\n",
      "1  1462  165668.081850\n",
      "2  1463  169604.039411\n",
      "3  1464  186865.888099\n",
      "4  1465  190408.018254\n"
     ]
    }
   ],
   "source": []
  },
  {
   "cell_type": "code",
   "execution_count": 77,
   "metadata": {
    "collapsed": true
   },
   "outputs": [],
   "source": [
    "result.set_index('Id',inplace=True)"
   ]
  },
  {
   "cell_type": "code",
   "execution_count": 78,
   "metadata": {},
   "outputs": [
    {
     "name": "stdout",
     "output_type": "stream",
     "text": [
      "          SalePrice\n",
      "Id                 \n",
      "1461  118897.659462\n",
      "1462  165668.081850\n",
      "1463  169604.039411\n",
      "1464  186865.888099\n",
      "1465  190408.018254\n"
     ]
    }
   ],
   "source": [
    "print(result.head())"
   ]
  },
  {
   "cell_type": "code",
   "execution_count": 79,
   "metadata": {
    "collapsed": true
   },
   "outputs": [],
   "source": [
    "result.to_csv('Submission.csv')"
   ]
  },
  {
   "cell_type": "code",
   "execution_count": null,
   "metadata": {
    "collapsed": true
   },
   "outputs": [],
   "source": []
  }
 ],
 "metadata": {
  "kernelspec": {
   "display_name": "Python 3",
   "language": "python",
   "name": "python3"
  },
  "language_info": {
   "codemirror_mode": {
    "name": "ipython",
    "version": 3
   },
   "file_extension": ".py",
   "mimetype": "text/x-python",
   "name": "python",
   "nbconvert_exporter": "python",
   "pygments_lexer": "ipython3",
   "version": "3.6.1"
  }
 },
 "nbformat": 4,
 "nbformat_minor": 2
}
